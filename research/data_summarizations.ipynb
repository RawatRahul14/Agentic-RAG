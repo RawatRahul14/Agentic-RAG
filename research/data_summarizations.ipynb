{
 "cells": [
  {
   "cell_type": "code",
   "execution_count": 1,
   "id": "2f448551",
   "metadata": {},
   "outputs": [],
   "source": [
    "import os"
   ]
  },
  {
   "cell_type": "code",
   "execution_count": 2,
   "id": "a9141e90",
   "metadata": {},
   "outputs": [],
   "source": [
    "os.chdir(\"../\")"
   ]
  },
  {
   "cell_type": "code",
   "execution_count": 3,
   "id": "f3508fa3",
   "metadata": {},
   "outputs": [],
   "source": [
    "from src.utils.get_data import extract_from_pdf"
   ]
  },
  {
   "cell_type": "code",
   "execution_count": 4,
   "id": "95c14c7b",
   "metadata": {},
   "outputs": [
    {
     "name": "stderr",
     "output_type": "stream",
     "text": [
      "CropBox missing from /Page, defaulting to MediaBox\n",
      "CropBox missing from /Page, defaulting to MediaBox\n",
      "CropBox missing from /Page, defaulting to MediaBox\n",
      "CropBox missing from /Page, defaulting to MediaBox\n",
      "CropBox missing from /Page, defaulting to MediaBox\n",
      "CropBox missing from /Page, defaulting to MediaBox\n",
      "CropBox missing from /Page, defaulting to MediaBox\n",
      "CropBox missing from /Page, defaulting to MediaBox\n",
      "CropBox missing from /Page, defaulting to MediaBox\n",
      "CropBox missing from /Page, defaulting to MediaBox\n",
      "CropBox missing from /Page, defaulting to MediaBox\n",
      "CropBox missing from /Page, defaulting to MediaBox\n",
      "CropBox missing from /Page, defaulting to MediaBox\n",
      "CropBox missing from /Page, defaulting to MediaBox\n",
      "CropBox missing from /Page, defaulting to MediaBox\n",
      "CropBox missing from /Page, defaulting to MediaBox\n",
      "CropBox missing from /Page, defaulting to MediaBox\n",
      "CropBox missing from /Page, defaulting to MediaBox\n",
      "CropBox missing from /Page, defaulting to MediaBox\n",
      "CropBox missing from /Page, defaulting to MediaBox\n",
      "CropBox missing from /Page, defaulting to MediaBox\n",
      "CropBox missing from /Page, defaulting to MediaBox\n"
     ]
    }
   ],
   "source": [
    "texts, tables = extract_from_pdf(uploaded_file = \"data/2023q4-alphabet-earnings-release.pdf\")"
   ]
  },
  {
   "cell_type": "code",
   "execution_count": 5,
   "id": "fea59326",
   "metadata": {},
   "outputs": [
    {
     "data": {
      "text/plain": [
       "['Alphabet Announces Fourth Quarter and Fiscal Year 2023 Results\\nMOUNTAIN VIEW, Calif. – January 30, 2024 – Alphabet Inc. (NASDAQ: GOOG, GOOGL) today announced\\nfinancial results for the quarter and fiscal year ended December 31, 2023.\\nSundar Pichai, CEO, said: “We are pleased with the ongoing strength in Search and the growing contribution from\\nYouTube and Cloud. Each of these is already benefiting from our AI investments and innovation. As we enter the\\nGemini era, the best is yet to come.”\\nRuth Porat, President and Chief Investment Officer; CFO said: “We ended 2023 with very strong fourth quarter\\nfinancial results, with Q4 consolidated revenues of $86 billion, up 13% year over year. We remain committed to our\\nwork to durably re-engineer our cost base as we invest to support our growth opportunities.”\\nQ4 2023 Financial Highlights\\nThe following table summarizes our consolidated financial results for the quarters and years ended December 31,\\n2022 and 2023 (in millions, except for per share information and percentages).\\nQuarter Ended Year Ended\\nDecember 31, December 31,\\n2022 2023 2022 2023\\n(unaudited) (unaudited)\\nRevenues $ 76,048 $ 86,310 $ 282,836 $ 307,394\\nChange in revenues year over year 1 % 13 % 10 % 9 %\\nChange in constant currency revenues year over year(1) 7 % 13 % 14 % 10 %\\nOperating income $ 18,160 $ 23,697 $ 74,842 $ 84,293\\nOperating margin 24 % 27 % 26 % 27 %\\nOther income (expense), net $ (1,013) $ 715 $ (3,514) $ 1,424\\nNet income $ 13,624 $ 20,687 $ 59,972 $ 73,795\\nDiluted EPS $ 1.05 $ 1.64 $ 4.56 $ 5.80\\n(1) Non-GAAP measure. See the table captioned “Reconciliation from GAAP revenues to non-GAAP constant currency\\nrevenues and GAAP percentage change in revenues to non-GAAP percentage change in constant currency revenues” for\\nmore details.',\n",
       " 'Q4 2023 Supplemental Information (in millions, except for number of employees; unaudited)\\nRevenues, Traffic Acquisition Costs (TAC), and Number of Employees\\nQuarter Ended December 31,\\n2022 2023\\nGoogle Search & other $ 42,604 $ 48,020\\nYouTube ads 7,963 9,200\\nGoogle Network 8,475 8,297\\nGoogle advertising 59,042 65,517\\nGoogle subscriptions, platforms, and devices(1) 8,796 10,794\\nGoogle Services total 67,838 76,311\\nGoogle Cloud 7,315 9,192\\nOther Bets 226 657\\nHedging gains (losses) 669 150\\nTotal revenues $ 76,048 $ 86,310\\nTotal TAC $ 12,925 $ 13,986\\nNumber of employees 190,234 182,502\\n(1) Formerly “Google other.”\\nSegment Operating Results\\nQuarter Ended December 31,\\n2022 2023\\nOperating income (loss):\\nGoogle Services $ 20,222 $ 26,730\\nGoogle Cloud (186) 864\\nOther Bets (1,237) (863)\\nAlphabet-level activities(1) (639) (3,034)\\nTotal income from operations $ 18,160 $ 23,697\\n(1) Formerly “corporate costs, unallocated.” In addition to the costs included in Alphabet-level activities, hedging gains (losses)\\nrelated to revenue were $669 million and $150 million for the three months ended December 31, 2022 and 2023,\\nrespectively. For the quarter ended December 31, 2023, Alphabet-level activities included charges related to the reduction\\nin force and our office space optimization efforts totaling $1.2 billion and $62 million in accelerated rent and accelerated\\ndepreciation.\\nAdditional Information Relating to the Quarter Ended December 31, 2023 (unaudited)\\nReductions in Our Workforce and Office Space\\nIn January 2023, we announced a reduction of our workforce, and as a result we recorded employee severance and\\nrelated charges of $2.1 billion for the twelve months ended December 31, 2023. In addition, we are taking actions\\nto optimize our global office space. As a result, exit charges recorded during the three and twelve months ended\\nDecember 31, 2023, were $1.2 billion and $1.8 billion, respectively. In addition to these exit charges, for the three\\nand twelve months ended December 31, 2023, we incurred $62 million and $269 million, respectively, in\\naccelerated rent and accelerated depreciation.\\n2',\n",
       " 'Severance and office space exit charges are included within our consolidated statements of income as follows (in\\nmillions):\\nQuarter Ended December 31, 2023 Year Ended December 31, 2023\\nSeverance Severance\\nand Related Office Space Total and Related Office Space Total\\nCost of revenues $ 2 $ 235 $ 237 $ 479 $ 481 $ 960\\nResearch and development 1 602 603 848 870 1,718\\nSales and marketing 3 198 201 497 257 754\\nGeneral and administrative 1 161 162 264 237 501\\nTotal charges $ 7 $ 1,196 $ 1,203 $ 2,088 $ 1,845 $ 3,933\\nFor segment reporting, the substantial majority of these charges are included within Alphabet-level activities in our\\nsegment results.\\nChange in Useful Lives of Our Server and Network Equipment\\nIn January 2023, we completed an assessment of the useful lives of our servers and network equipment and\\nadjusted the estimated useful life of our servers from four years to six years and the estimated useful life of certain\\nnetwork equipment from five years to six years. This change in accounting estimate was effective beginning in fiscal\\nyear 2023, and the effect was a reduction in depreciation expense of $983 million and $3.9 billion and an increase\\nin net income of $765 million and $3.0 billion, or $0.06 and $0.24 per basic and $0.06 and $0.24 per diluted share\\nfor the three and twelve months ended December 31, 2023, respectively.\\nWebcast and Conference Call Information\\nA live audio webcast of our fourth quarter 2023 earnings release call will be available on YouTube at https://\\nwww.youtube.com/watch?v=b4alwdVvn4Q. The call begins today at 1:30 PM (PT) / 4:30 PM (ET). This press\\nrelease, including the reconciliations of certain non-GAAP measures to their nearest comparable GAAP measures,\\nis also available at http://abc.xyz/investor.\\nWe also provide announcements regarding our financial performance, including SEC filings, investor events, press\\nand earnings releases, and blogs, on our investor relations website (http://abc.xyz/investor).\\nWe also share Google news and product updates on Google’s Keyword blog at https://www.blog.google/, which may\\nbe of interest or material to our investors.\\nForward-Looking Statements\\nThis press release may contain forward-looking statements that involve risks and uncertainties. Actual results may\\ndiffer materially from the results predicted, and reported results should not be considered as an indication of future\\nperformance. The potential risks and uncertainties that could cause actual results to differ from the results predicted\\ninclude, among others, those risks and uncertainties included under the captions “Risk Factors” and “Management’s\\nDiscussion and Analysis of Financial Condition and Results of Operations” in our Annual Report on Form 10-K for\\nthe year ended December 31, 2022 and our most recent Quarterly Report on Form 10-Q for the quarter ended\\nSeptember 30, 2023, which are on file with the SEC and are available on our investor relations website at http://\\nabc.xyz/investor and on the SEC website at www.sec.gov. Additional information will also be set forth in our Annual\\nReport on Form 10-K for the year ended December 31, 2023, and may be set forth in other reports and filings we\\nmake with the SEC. All information provided in this release and in the attachments is as of January 30, 2024. Undue\\nreliance should not be placed on the forward-looking statements in this press release, which are based on\\ninformation available to us on the date hereof. We undertake no duty to update this information unless required by\\nlaw.\\nAbout Non-GAAP Financial Measures\\nTo supplement our consolidated financial statements, which are prepared and presented in accordance with GAAP,\\nwe use the following non-GAAP financial measures: free cash flow; constant currency revenues; and percentage\\nchange in constant currency revenues. The presentation of this financial information is not intended to be\\nconsidered in isolation or as a substitute for, or superior to, the financial information prepared and presented in\\naccordance with GAAP.\\nWe use these non-GAAP financial measures for financial and operational decision-making and as a means to\\nevaluate period-to-period comparisons. We believe that these non-GAAP financial measures provide meaningful\\n3',\n",
       " 'supplemental information regarding our performance and liquidity by excluding certain items that may not be\\nindicative of our recurring core business operating results, such as our revenues excluding the effect of foreign\\nexchange rate movements and hedging activities, which are recognized at the consolidated level. We believe that\\nboth management and investors benefit from referring to these non-GAAP financial measures in assessing our\\nperformance and when planning, forecasting, and analyzing future periods. These non-GAAP financial measures\\nalso facilitate management’s internal comparisons to our historical performance and liquidity as well as comparisons\\nto our competitors’ operating results. We believe these non-GAAP financial measures are useful to investors both\\nbecause (1) they allow for greater transparency with respect to key metrics used by management in its financial and\\noperational decision-making and (2) they are used by our institutional investors and the analyst community to help\\nthem analyze the health of our business.\\nThere are a number of limitations related to the use of non-GAAP financial measures. We compensate for these\\nlimitations by providing specific information regarding the GAAP amounts excluded from these non-GAAP financial\\nmeasures and evaluating these non-GAAP financial measures together with their relevant financial measures in\\naccordance with GAAP.\\nFor more information on these non-GAAP financial measures, please see the tables captioned “Reconciliation from\\nGAAP net cash provided by operating activities to non-GAAP free cash flow” and “Reconciliation from GAAP\\nrevenues to non-GAAP constant currency revenues and GAAP percentage change in revenues to non-GAAP\\npercentage change in constant currency revenues” included at the end of this release.\\nContact\\nInvestor relations Media\\ninvestor-relations@abc.xyz press@abc.xyz\\n4',\n",
       " 'Alphabet Inc.\\nCONSOLIDATED BALANCE SHEETS\\n(In millions, except par value per share amounts)\\nAs of December 31,\\n2022 2023\\n(unaudited)\\nAssets\\nCurrent assets:\\nCash and cash equivalents $ 21,879 $ 24,048\\nMarketable securities 91,883 86,868\\nTotal cash, cash equivalents, and marketable securities 113,762 110,916\\nAccounts receivable, net 40,258 47,964\\nOther current assets 10,775 12,650\\nTotal current assets 164,795 171,530\\nNon-marketable securities 30,492 31,008\\nDeferred income taxes 5,261 12,169\\nProperty and equipment, net 112,668 134,345\\nOperating lease assets 14,381 14,091\\nGoodwill 28,960 29,198\\nOther non-current assets 8,707 10,051\\nTotal assets $ 365,264 $ 402,392\\nLiabilities and Stockholders’ Equity\\nCurrent liabilities:\\nAccounts payable $ 5,128 $ 7,493\\nAccrued compensation and benefits 14,028 15,140\\nAccrued expenses and other current liabilities 37,866 46,168\\nAccrued revenue share 8,370 8,876\\nDeferred revenue 3,908 4,137\\nTotal current liabilities 69,300 81,814\\nLong-term debt 14,701 13,253\\nDeferred revenue, non-current 599 911\\nIncome taxes payable, non-current 9,258 8,474\\nDeferred income taxes 514 485\\nOperating lease liabilities 12,501 12,460\\nOther long-term liabilities 2,247 1,616\\nTotal liabilities 109,120 119,013\\nCommitments and contingencies\\nStockholders’ equity:\\nPreferred stock, $0.001 par value per share, 100 shares authorized; no shares\\nissued and outstanding 0 0\\nClass A, Class B, and Class C stock and additional paid-in capital, $0.001 par\\nvalue per share: 300,000 shares authorized (Class A 180,000, Class B 60,000,\\nClass C 60,000); 12,849 (Class A 5,964, Class B 883, Class C 6,002) and 12,460\\n(Class A 5,899, Class B 870, Class C 5,691) shares issued and outstanding 68,184 76,534\\nAccumulated other comprehensive income (loss) (7,603) (4,402)\\nRetained earnings 195,563 211,247\\nTotal stockholders’ equity 256,144 283,379\\nTotal liabilities and stockholders’ equity $ 365,264 $ 402,392\\n5',\n",
       " 'Alphabet Inc.\\nCONSOLIDATED STATEMENTS OF INCOME\\n(In millions, except per share amounts)\\nQuarter Ended December 31, Year Ended December 31,\\n2022 2023 2022 2023\\n(unaudited) (unaudited)\\nRevenues $ 76,048 $ 86,310 $ 282,836 $ 307,394\\nCosts and expenses:\\nCost of revenues 35,342 37,575 126,203 133,332\\nResearch and development 10,267 12,113 39,500 45,427\\nSales and marketing 7,183 7,719 26,567 27,917\\nGeneral and administrative 5,096 5,206 15,724 16,425\\nTotal costs and expenses 57,888 62,613 207,994 223,101\\nIncome from operations 18,160 23,697 74,842 84,293\\nOther income (expense), net (1,013) 715 (3,514) 1,424\\nIncome before income taxes 17,147 24,412 71,328 85,717\\nProvision for income taxes 3,523 3,725 11,356 11,922\\nNet income $ 13,624 $ 20,687 $ 59,972 $ 73,795\\nBasic earnings per share of Class A, Class B, and Class C\\nstock $ 1.06 $ 1.66 $ 4.59 $ 5.84\\nDiluted earnings per share of Class A, Class B, and Class\\nC stock $ 1.05 $ 1.64 $ 4.56 $ 5.80\\nNumber of shares used in basic earnings per share\\ncalculation 12,897 12,488 13,063 12,630\\nNumber of shares used in diluted earnings per share\\ncalculation 12,947 12,602 13,159 12,722\\n6',\n",
       " 'Alphabet Inc.\\nCONSOLIDATED STATEMENTS OF CASH FLOWS\\n(In millions)\\nQuarter Ended December 31, Year Ended December 31,\\n2022 2023 2022 2023\\n(unaudited) (unaudited)\\nOperating activities\\nNet income $ 13,624 $ 20,687 $ 59,972 $ 73,795\\nAdjustments:\\nDepreciation of property and equipment 3,602 3,316 13,475 11,946\\nStock-based compensation expense 5,100 5,659 19,362 22,460\\nDeferred income taxes (1,924) (1,670) (8,081) (7,763)\\n(Gain) loss on debt and equity securities, net 1,663 (471) 5,519 823\\nOther 1,260 1,665 3,483 4,330\\nChanges in assets and liabilities, net of effects of\\nacquisitions:\\nAccounts receivable, net (4,615) (6,518) (2,317) (7,833)\\nIncome taxes, net 1,446 (9,869) 584 523\\nOther assets (778) 740 (5,046) (2,143)\\nAccounts payable (28) 427 707 664\\nAccrued expenses and other liabilities 3,424 4,317 3,915 3,937\\nAccrued revenue share 577 797 (445) 482\\nDeferred revenue 263 (165) 367 525\\nNet cash provided by operating activities 23,614 18,915 91,495 101,746\\nInvesting activities\\nPurchases of property and equipment (7,595) (11,019) (31,485) (32,251)\\nPurchases of marketable securities (11,621) (28,436) (78,874) (77,858)\\nMaturities and sales of marketable securities 13,735 34,030 97,822 86,672\\nPurchases of non-marketable securities (903) (851) (2,531) (3,027)\\nMaturities and sales of non-marketable securities 19 204 150 947\\nAcquisitions, net of cash acquired, and purchases of\\nintangible assets (84) (29) (6,969) (495)\\nOther investing activities 222 (66) 1,589 (1,051)\\nNet cash used in investing activities (6,227) (6,167) (20,298) (27,063)\\nFinancing activities\\nNet payments related to stock-based award activities (2,079) (2,680) (9,300) (9,837)\\nRepurchases of stock (15,407) (16,191) (59,296) (61,504)\\nProceeds from issuance of debt, net of costs 8,550 1,492 52,872 10,790\\nRepayments of debt (8,718) (1,929) (54,068) (11,550)\\nProceeds from sale of interest in consolidated entities,\\nnet 25 0 35 8\\nNet cash used in financing activities (17,629) (19,308) (69,757) (72,093)\\nEffect of exchange rate changes on cash and cash\\nequivalents 137 (94) (506) (421)\\nNet increase (decrease) in cash and cash\\nequivalents (105) (6,654) 934 2,169\\nCash and cash equivalents at beginning of period 21,984 30,702 20,945 21,879\\nCash and cash equivalents at end of period $ 21,879 $ 24,048 $ 21,879 $ 24,048\\n7',\n",
       " 'Segment Results\\nThe following table presents our segment revenues and operating income (loss) (in millions; unaudited):\\nQuarter Ended December 31,\\n2022 2023\\nRevenues:\\nGoogle Services $ 67,838 $ 76,311\\nGoogle Cloud 7,315 9,192\\nOther Bets 226 657\\nHedging gains (losses) 669 150\\nTotal revenues $ 76,048 $ 86,310\\nOperating income (loss):\\nGoogle Services $ 20,222 $ 26,730\\nGoogle Cloud (186) 864\\nOther Bets (1,237) (863)\\nAlphabet-level activities (639) (3,034)\\nTotal income from operations $ 18,160 $ 23,697\\nWe report our segment results as Google Services, Google Cloud, and Other Bets:\\n• Google Services includes products and services such as ads, Android, Chrome, devices, Google Maps,\\nGoogle Play, Search, and YouTube. Google Services generates revenues primarily from advertising; fees\\nreceived for consumer subscription-based products such as YouTube TV, YouTube Music and Premium,\\nand NFL Sunday Ticket; the sale of apps and in-app purchases and devices.\\n• Google Cloud includes infrastructure and platform services, collaboration tools, and other services for\\nenterprise customers. Google Cloud generates revenues primarily from consumption-based fees and\\nsubscriptions received for Google Cloud Platform services, Google Workspace communication and\\ncollaboration tools, and other enterprise services.\\n• Other Bets is a combination of multiple operating segments that are not individually material. Revenues\\nfrom Other Bets are generated primarily from the sale of healthcare-related services and internet services.\\nCertain costs are not allocated to our segments because they represent Alphabet-level activities. These costs\\nprimarily include AI-focused shared R&D activities, including development costs of our general AI models; corporate\\ninitiatives such as our philanthropic activities; corporate shared costs such as certain finance, human resource, and\\nlegal costs, including certain fines and settlements. Charges associated with reductions in our workforce and office\\nspace during 2023 were not allocated to our segments. Additionally, hedging gains (losses) related to revenue are\\nnot allocated to our segments.\\nOther Income (Expense), Net\\nThe following table presents our other income (expense), net (in millions; unaudited):\\nQuarter Ended December 31,\\n2022 2023\\nInterest income $ 659 $ 1,110\\nInterest expense (90) (69)\\nForeign currency exchange gain (loss), net (185) (449)\\nGain (loss) on debt securities, net (176) (115)\\nGain (loss) on equity securities, net(1) (1,487) 586\\nPerformance fees 193 (45)\\nIncome (loss) and impairment from equity method investments, net (31) (256)\\nOther 104 (47)\\nOther income (expense), net $ (1,013) $ 715\\n(1) Includes all gains and losses, unrealized and realized, on equity securities. For Q4 2023, the net effect of the gain on equity\\nsecurities of $586 million and the $45 million of performance fees related to certain investments increased the provision for\\n8',\n",
       " 'income tax, net income, and diluted EPS by $114 million, $427 million, and $0.03, respectively. Fluctuations in the value of\\nour investments may be affected by market dynamics and other factors and could significantly contribute to the volatility of\\nOI&E in future periods.\\nReconciliation from GAAP Net Cash Provided by Operating Activities to Non-GAAP Free Cash Flow (in\\nmillions; unaudited):\\nWe provide non-GAAP free cash flow because it is a liquidity measure that provides useful information to\\nmanagement and investors about the amount of cash generated by the business that can be used for strategic\\nopportunities, including investing in our business and acquisitions, and to strengthen our balance sheet.\\nQuarter Ended\\nDecember 31, 2023\\nNet cash provided by operating activities $ 18,915\\nLess: purchases of property and equipment (11,019)\\nFree cash flow $ 7,896\\nFree cash flow: We define free cash flow as net cash provided by operating activities less capital expenditures.\\n9',\n",
       " 'Reconciliation from GAAP Revenues to Non-GAAP Constant Currency Revenues and GAAP Percentage\\nChange in Revenues to Non-GAAP Percentage Change in Constant Currency Revenues (in millions, except\\npercentages; unaudited):\\nWe provide non-GAAP constant currency revenues (“constant currency revenues”) and non-GAAP percentage change\\nin constant currency revenues (“percentage change in constant currency revenues”), because they facilitate the\\ncomparison of current results to historic performance by excluding the effect of foreign exchange rate movements (“FX\\nEffect”) as well as hedging activities, which are recognized at the consolidated level, as they are not indicative of our\\ncore operating results.\\nNon-GAAP constant currency revenues is defined as revenues excluding the effect of foreign exchange rate\\nmovements and hedging activities and is calculated by translating current period revenues using prior period exchange\\nrates and excluding any hedging effect recognized in the current period. We calculate the percentage change in\\nconstant currency revenues by comparing constant currency revenues to the prior year comparable period revenues,\\nexcluding any hedging effect recognized in the prior period.\\nRevenues by Geography\\nComparison from the Quarter Ended December 31, 2022 to the Quarter Ended December 31, 2023\\nQuarter Ended December 31, 2023\\n% Change from Prior Period\\nQuarter Ended December 31, Constant Less Constant\\nLess FX Currency As Hedging Less FX Currency\\n2022 2023 Effect Revenues Reported Effect Effect Revenues\\nUnited States $ 36,982 $ 41,995 $ 0 $ 41,995 14 % 0 % 14 %\\nEMEA 21,762 25,010 1,105 23,905 15 % 5 % 10 %\\nAPAC 11,979 13,979 (90) 14,069 17 % 0 % 17 %\\nOther Americas 4,656 5,176 (75) 5,251 11 % (2) % 13 %\\nRevenues, excluding hedging effect 75,379 86,160 940 85,220 14 % 1 % 13 %\\nHedging gains (losses) 669 150\\nTotal revenues(1) $ 76,048 $ 86,310 $ 85,220 13 % (1) % 1 % 13 %\\n(1) Total constant currency revenues of $85.2 billion for the quarter ended December 31, 2023 increased $9.8 billion compared to $75.4 billion in\\nrevenues, excluding hedging effect for the quarter ended December 31, 2022.\\nComparison from the Quarter Ended September 30, 2023 to the Quarter Ended December 31, 2023\\nQuarter Ended December 31, 2023\\n% Change from Prior Period\\nQuarter Ended\\nConstant Less Constant\\nSeptember December Less FX Currency As Hedging Less FX Currency\\n30, 2023 31, 2023 Effect Revenues Reported Effect Effect Revenues\\nUnited States $ 36,354 $ 41,995 $ 0 $ 41,995 16 % 0 % 16 %\\nEMEA 22,661 25,010 (508) 25,518 10 % (3) % 13 %\\nAPAC 13,126 13,979 (196) 14,175 6 % (2) % 8 %\\nOther Americas 4,553 5,176 (151) 5,327 14 % (3) % 17 %\\nRevenues, excluding hedging effect 76,694 86,160 (855) 87,015 12 % (1) % 13 %\\nHedging gains (losses) (1) 150\\nTotal revenues(1) $ 76,693 $ 86,310 $ 87,015 13 % 1 % (1) % 13 %\\n(1) Total constant currency revenues of $87.0 billion for the quarter ended December 31, 2023 increased $10.3 billion compared to $76.7 billion in\\nrevenues, excluding hedging effect for the quarter ended September 30, 2023.\\n10',\n",
       " 'Comparison from the Year Ended December 31, 2022 to the Year Ended December 31, 2023\\nYear Ended December 31, 2023\\n% Change from Prior Period\\nYear Ended December 31,\\nConstant Less Constant\\nLess FX Currency As Hedging Less FX Currency\\n2022 2023 Effect Revenues Reported Effect Effect Revenues\\nUnited States $ 134,814 $ 146,286 $ 0 $ 146,286 9 % 0 % 9 %\\nEMEA 82,062 91,038 460 90,578 11 % 1 % 10 %\\nAPAC 47,024 51,514 (1,759) 53,273 10 % (3) % 13 %\\nOther Americas 16,976 18,320 (654) 18,974 8 % (4) % 12 %\\nRevenues, excluding hedging effect 280,876 307,158 (1,953) 309,111 9 % (1) % 10 %\\nHedging gains (losses) 1,960 236\\nTotal revenues(1) $ 282,836 $ 307,394 $ 309,111 9 % 0 % (1) % 10 %\\n(1) Total constant currency revenues of $309.1 billion for the year ended December 31, 2023 increased $28.2 billion compared to $280.9 billion in\\nrevenues, excluding hedging effect for the year ended December 31, 2022.\\nTotal Revenues — Prior Year Comparative Periods\\nComparison from the Quarter Ended December 31, 2021 to the Quarter Ended December 31, 2022\\nQuarter Ended December 31, 2022\\n% Change from Prior Period\\nQuarter Ended December\\n31, Constant Less Constant\\nLess FX Currency As Hedging Less FX Currency\\n2021 2022 Effect Revenues Reported Effect Effect Revenues\\nRevenues excluding hedging effect $ 75,122 $ 75,379 $ (4,733) $ 80,112 0 % (7) % 7 %\\nHedging gains (losses) 203 669\\nTotal revenues $ 75,325 $ 76,048 $ 80,112 1 % 1 % (7) % 7 %\\nComparison from the Year Ended December 31, 2021 to the Year Ended December 31, 2022\\nYear Ended December 31, 2022\\n% Change from Prior Period\\nYear Ended December 31, Constant Less Constant\\nLess FX Currency As Hedging Less FX Currency\\n2021 2022 Effect Revenues Reported Effect Effect Revenues\\nRevenues excluding hedging effect $ 257,488 $ 280,876 $ (13,324) $ 294,200 9 % (5) % 14 %\\nHedging gains (losses) 149 1,960\\nTotal revenues $ 257,637 $ 282,836 $ 294,200 10 % 1 % (5) % 14 %\\n11']"
      ]
     },
     "execution_count": 5,
     "metadata": {},
     "output_type": "execute_result"
    }
   ],
   "source": [
    "texts"
   ]
  },
  {
   "cell_type": "code",
   "execution_count": 6,
   "id": "868331cf",
   "metadata": {},
   "outputs": [
    {
     "data": {
      "text/plain": [
       "[[['Revenues $ 76,048 $ 86,310 $ 282,836 $ 307,394'],\n",
       "  ['Change in revenues year over year 1 % 13 % 10 % 9 %'],\n",
       "  ['Change in constant currency revenues year over year(1) 7 % 13 % 14 % 10 %'],\n",
       "  [''],\n",
       "  ['Operating income $ 18,160 $ 23,697 $ 74,842 $ 84,293'],\n",
       "  ['Operating margin 24 % 27 % 26 % 27 %'],\n",
       "  [''],\n",
       "  ['Other income (expense), net $ (1,013) $ 715 $ (3,514) $ 1,424'],\n",
       "  [''],\n",
       "  ['Net income $ 13,624 $ 20,687 $ 59,972 $ 73,795'],\n",
       "  ['Diluted EPS $ 1.05 $ 1.64 $ 4.56 $ 5.80']],\n",
       " [['Google Search & other $ 42,604 $ 48,020'],\n",
       "  ['YouTube ads 7,963 9,200'],\n",
       "  ['Google Network 8,475 8,297'],\n",
       "  ['Google advertising 59,042 65,517'],\n",
       "  ['Google subscriptions, platforms, and devices(1) 8,796 10,794'],\n",
       "  ['Google Services total 67,838 76,311'],\n",
       "  ['Google Cloud 7,315 9,192'],\n",
       "  ['Other Bets 226 657'],\n",
       "  ['Hedging gains (losses) 669 150'],\n",
       "  ['Total revenues $ 76,048 $ 86,310'],\n",
       "  [''],\n",
       "  ['Total TAC $ 12,925 $ 13,986'],\n",
       "  [''],\n",
       "  ['Number of employees 190,234 182,502']],\n",
       " [['Operating income (loss):', None],\n",
       "  ['Google Services $ 20,222 $ 26,730', None],\n",
       "  ['Google Cloud (186) 864', None],\n",
       "  ['Other Bets (1,237) (863)', None],\n",
       "  ['Alphabet-level activities(1)', '(639) (3,034)'],\n",
       "  ['Total income from operations $ 18,160 $ 23,697', None]],\n",
       " [[None,\n",
       "   'or the quarter ended December 31, 2023, Alphabet-level activities included charges related to the reduction'],\n",
       "  ['in force and our office space optimization efforts totaling $1.2 billion and $62 million in accelerated rent and accelerated',\n",
       "   None],\n",
       "  ['depreciation.', None]],\n",
       " [['red', '$62 million', '', 'and', '$269 million', ', respectively, in']],\n",
       " [['Cost of revenues $ 2 $ 235 $ 237 $ 479 $ 481 $ 960'],\n",
       "  ['Research and development 1 602 603 848 870 1,718'],\n",
       "  ['Sales and marketing 3 198 201 497 257 754'],\n",
       "  ['General and administrative 1 161 162 264 237 501'],\n",
       "  ['Total charges $ 7 $ 1,196 $ 1,203 $ 2,088 $ 1,845 $ 3,933']],\n",
       " [[None, '(unaudited)'],\n",
       "  ['Assets', None],\n",
       "  ['Current assets:', None],\n",
       "  ['Cash and cash equivalents $ 21,879 $ 24,048', None],\n",
       "  ['Marketable securities 91,883 86,868', None],\n",
       "  ['Total cash, cash equivalents, and marketable securities 113,762 110,916',\n",
       "   None],\n",
       "  ['Accounts receivable, net 40,258 47,964', None],\n",
       "  ['Other current assets 10,775 12,650', None],\n",
       "  ['Total current assets 164,795 171,530', None],\n",
       "  ['Non-marketable securities 30,492 31,008', None],\n",
       "  ['Deferred income taxes 5,261 12,169', None],\n",
       "  ['Property and equipment, net 112,668 134,345', None],\n",
       "  ['Operating lease assets 14,381 14,091', None],\n",
       "  ['Goodwill 28,960 29,198', None],\n",
       "  ['Other non-current assets 8,707 10,051', None],\n",
       "  ['Total assets $ 365,264 $ 402,392', None],\n",
       "  ['Liabilities and Stockholders’ Equity', None],\n",
       "  ['Current liabilities:', None],\n",
       "  ['Accounts payable $ 5,128 $ 7,493', None],\n",
       "  ['Accrued compensation and benefits 14,028 15,140', None],\n",
       "  ['Accrued expenses and other current liabilities 37,866 46,168', None],\n",
       "  ['Accrued revenue share 8,370 8,876', None],\n",
       "  ['Deferred revenue 3,908 4,137', None],\n",
       "  ['Total current liabilities 69,300 81,814', None],\n",
       "  ['Long-term debt 14,701 13,253', None],\n",
       "  ['Deferred revenue, non-current 599 911', None],\n",
       "  ['Income taxes payable, non-current 9,258 8,474', None],\n",
       "  ['Deferred income taxes 514 485', None],\n",
       "  ['Operating lease liabilities 12,501 12,460', None],\n",
       "  ['Other long-term liabilities 2,247 1,616', None],\n",
       "  ['Total liabilities 109,120 119,013', None],\n",
       "  ['Commitments and contingencies', None],\n",
       "  ['Stockholders’ equity:', None],\n",
       "  ['Preferred stock, $0.001 par value per share, 100 shares authorized; no shares\\nissued and outstanding 0 0',\n",
       "   None],\n",
       "  ['Class A, Class B, and Class C stock and additional paid-in capital, $0.001 par\\nvalue per share: 300,000 shares authorized (Class A 180,000, Class B 60,000,\\nClass C 60,000); 12,849 (Class A 5,964, Class B 883, Class C 6,002) and 12,460\\n(Class A 5,899, Class B 870, Class C 5,691) shares issued and outstanding 68,184 76,534',\n",
       "   None],\n",
       "  ['Accumulated other comprehensive income (loss) (7,603) (4,402)', None],\n",
       "  ['Retained earnings 195,563 211,247', None],\n",
       "  ['Total stockholders’ equity 256,144 283,379', None],\n",
       "  ['Total liabilities and stockholders’ equity $ 365,264 $ 402,392', None]],\n",
       " [['Revenues $ 76,048 $ 86,310 $ 282,836 $ 307,394', None, None],\n",
       "  ['Costs and expenses:', None, None],\n",
       "  ['Cost of revenues 35,342 37,575 126,203 133,332', None, None],\n",
       "  ['Research and development 10,267 12,113 39,500 45,427', None, None],\n",
       "  ['Sales and marketing 7,183 7,719 26,567 27,917', None, None],\n",
       "  ['General and administrative 5,096 5,206 15,724 16,425', None, None],\n",
       "  ['Total costs and expenses 57,888 62,613 207,994 223,101', None, None],\n",
       "  ['Income from operations 18,160 23,697 74,842 84,293', None, None],\n",
       "  ['Other income (expense), net (1,013) 715 (3,514) 1,424', None, None],\n",
       "  ['Income before income taxes 17,147 24,412 71,328 85,717', None, None],\n",
       "  ['Provision for income taxes 3,523 3,725 11,356 11,922', None, None],\n",
       "  ['Net income $ 13,624 $ 20,687 $ 59,972 $ 73,795', None, None],\n",
       "  ['', None, None],\n",
       "  ['Basic earnings per share of Class A, Class B, and Class C\\nstock',\n",
       "   '$ 1.06',\n",
       "   '$ 1.66 $ 4.59 $ 5.84'],\n",
       "  ['Diluted earnings per share of Class A, Class B, and Class\\nC stock $ 1.05 $ 1.64 $ 4.56 $ 5.80',\n",
       "   None,\n",
       "   None],\n",
       "  ['Number of shares used in basic earnings per share\\ncalculation 12,897 12,488 13,063 12,630',\n",
       "   None,\n",
       "   None],\n",
       "  ['Number of shares used in diluted earnings per share\\ncalculation 12,947 12,602 13,159 12,722',\n",
       "   None,\n",
       "   None]],\n",
       " [['', '(unaudited)', '(unaudited)'],\n",
       "  ['Operating activities', None, None],\n",
       "  ['Net income $ 13,624 $ 20,687 $ 59,972 $ 73,795', None, None],\n",
       "  ['Adjustments:', None, None],\n",
       "  ['Depreciation of property and equipment 3,602 3,316 13,475 11,946',\n",
       "   None,\n",
       "   None],\n",
       "  ['Stock-based compensation expense 5,100 5,659 19,362 22,460', None, None],\n",
       "  ['Deferred income taxes (1,924) (1,670) (8,081) (7,763)', None, None],\n",
       "  ['(Gain) loss on debt and equity securities, net 1,663 (471) 5,519 823',\n",
       "   None,\n",
       "   None],\n",
       "  ['Other 1,260 1,665 3,483 4,330', None, None],\n",
       "  ['Changes in assets and liabilities, net of effects of\\nacquisitions:',\n",
       "   None,\n",
       "   None],\n",
       "  ['Accounts receivable, net (4,615) (6,518) (2,317) (7,833)', None, None],\n",
       "  ['Income taxes, net 1,446 (9,869) 584 523', None, None],\n",
       "  ['Other assets (778) 740 (5,046) (2,143)', None, None],\n",
       "  ['Accounts payable (28) 427 707 664', None, None],\n",
       "  ['Accrued expenses and other liabilities 3,424 4,317 3,915 3,937',\n",
       "   None,\n",
       "   None],\n",
       "  ['Accrued revenue share 577 797 (445) 482', None, None],\n",
       "  ['Deferred revenue 263 (165) 367 525', None, None],\n",
       "  ['Net cash provided by operating activities 23,614 18,915 91,495 101,746',\n",
       "   None,\n",
       "   None],\n",
       "  ['Investing activities', None, None],\n",
       "  ['Purchases of property and equipment (7,595) (11,019) (31,485) (32,251)',\n",
       "   None,\n",
       "   None],\n",
       "  ['Purchases of marketable securities (11,621) (28,436) (78,874) (77,858)',\n",
       "   None,\n",
       "   None],\n",
       "  ['Maturities and sales of marketable securities 13,735 34,030 97,822 86,672',\n",
       "   None,\n",
       "   None],\n",
       "  ['Purchases of non-marketable securities (903) (851) (2,531) (3,027)',\n",
       "   None,\n",
       "   None],\n",
       "  ['Maturities and sales of non-marketable securities 19 204 150 947',\n",
       "   None,\n",
       "   None],\n",
       "  ['Acquisitions, net of cash acquired, and purchases of\\nintangible assets (84) (29) (6,969) (495)',\n",
       "   None,\n",
       "   None],\n",
       "  ['Other investing activities 222 (66) 1,589 (1,051)', None, None],\n",
       "  ['Net cash used in investing activities (6,227) (6,167) (20,298) (27,063)',\n",
       "   None,\n",
       "   None],\n",
       "  ['Financing activities', None, None],\n",
       "  ['Net payments related to stock-based award activities (2,079) (2,680) (9,300) (9,837)',\n",
       "   None,\n",
       "   None],\n",
       "  ['Repurchases of stock (15,407) (16,191) (59,296) (61,504)', None, None],\n",
       "  ['Proceeds from issuance of debt, net of costs 8,550 1,492 52,872 10,790',\n",
       "   None,\n",
       "   None],\n",
       "  ['Repayments of debt (8,718) (1,929) (54,068) (11,550)', None, None],\n",
       "  ['Proceeds from sale of interest in consolidated entities,\\nnet 25 0 35 8',\n",
       "   None,\n",
       "   None],\n",
       "  ['Net cash used in financing activities (17,629) (19,308) (69,757) (72,093)',\n",
       "   None,\n",
       "   None],\n",
       "  ['Effect of exchange rate changes on cash and cash\\nequivalents 137 (94) (506) (421)',\n",
       "   None,\n",
       "   None],\n",
       "  ['Net increase (decrease) in cash and cash\\nequivalents (105) (6,654) 934 2,169',\n",
       "   None,\n",
       "   None],\n",
       "  ['Cash and cash equivalents at beginning of period 21,984 30,702 20,945 21,879',\n",
       "   None,\n",
       "   None],\n",
       "  ['Cash and cash equivalents at end of period $ 21,879 $ 24,048 $ 21,879 $ 24,048',\n",
       "   None,\n",
       "   None]],\n",
       " [['Revenues:', None],\n",
       "  ['Google Services $ 67,838', '$ 76,311'],\n",
       "  ['Google Cloud 7,315 9,192', None],\n",
       "  ['Other Bets 226', '657'],\n",
       "  ['Hedging gains (losses) 669 150', None],\n",
       "  ['Total revenues $ 76,048', '$ 86,310'],\n",
       "  ['Operating income (loss):', None],\n",
       "  ['Google Services $ 20,222', '$ 26,730'],\n",
       "  ['Google Cloud (186) 864', None],\n",
       "  ['Other Bets (1,237)', '(863)'],\n",
       "  ['Alphabet-level activities (639) (3,034)', None],\n",
       "  ['Total income from operations $ 18,160', '$ 23,697']],\n",
       " [['Interest income $ 659 $ 1,110'],\n",
       "  ['Interest expense (90) (69)'],\n",
       "  ['Foreign currency exchange gain (loss), net (185) (449)'],\n",
       "  ['Gain (loss) on debt securities, net (176) (115)'],\n",
       "  ['Gain (loss) on equity securities, net(1) (1,487) 586'],\n",
       "  ['Performance fees 193 (45)'],\n",
       "  ['Income (loss) and impairment from equity method investments, net (31) (256)'],\n",
       "  ['Other 104 (47)'],\n",
       "  ['Other income (expense), net $ (1,013) $ 715']],\n",
       " [['Net cash provided by operating activities $ 18,915'],\n",
       "  ['Less: purchases of property and equipment (11,019)'],\n",
       "  ['Free cash flow $ 7,896']],\n",
       " [[None, None, '% Change from Prior Period', None],\n",
       "  ['Less FX\\nEffect',\n",
       "   'Constant\\nCurrency\\nRevenues',\n",
       "   'As\\nReported',\n",
       "   'Less\\nHedging Less FX\\nEffect Effect']],\n",
       " [['United States $ 36,982 $ 41,995 $ 0 $ 41,995 14 % 0 % 14 %'],\n",
       "  ['EMEA 21,762 25,010 1,105 23,905 15 % 5 % 10 %'],\n",
       "  ['APAC 11,979 13,979 (90) 14,069 17 % 0 % 17 %'],\n",
       "  ['Other Americas 4,656 5,176 (75) 5,251 11 % (2) % 13 %'],\n",
       "  ['Revenues, excluding hedging effect 75,379 86,160 940 85,220 14 % 1 % 13 %'],\n",
       "  ['Hedging gains (losses) 669 150'],\n",
       "  ['Total revenues(1) $ 76,048 $ 86,310 $ 85,220 13 % (1) % 1 % 13 %']],\n",
       " [[None, None, '% Change from Prior Period', None],\n",
       "  ['Less FX\\nEffect',\n",
       "   'Constant\\nCurrency\\nRevenues',\n",
       "   'As\\nReported',\n",
       "   'Less\\nHedging Less FX\\nEffect Effect']],\n",
       " [['United States $ 36,354 $ 41,995 $ 0 $ 41,995 16 % 0 % 16 %'],\n",
       "  ['EMEA 22,661 25,010 (508) 25,518 10 % (3) % 13 %'],\n",
       "  ['APAC 13,126 13,979 (196) 14,175 6 % (2) % 8 %'],\n",
       "  ['Other Americas 4,553 5,176 (151) 5,327 14 % (3) % 17 %'],\n",
       "  ['Revenues, excluding hedging effect 76,694 86,160 (855) 87,015 12 % (1) % 13 %'],\n",
       "  ['Hedging gains (losses) (1) 150'],\n",
       "  ['Total revenues(1) $ 76,693 $ 86,310 $ 87,015 13 % 1 % (1) % 13 %']],\n",
       " [[None, None, '% Change from Prior Period', None],\n",
       "  ['Less FX\\nEffect',\n",
       "   'Constant\\nCurrency\\nRevenues',\n",
       "   'As\\nReported',\n",
       "   'Less\\nHedging Less FX\\nEffect Effect']],\n",
       " [['United States $ 134,814 $ 146,286 $ 0 $ 146,286 9 % 0 % 9 %'],\n",
       "  ['EMEA 82,062 91,038 460 90,578 11 % 1 % 10 %'],\n",
       "  ['APAC 47,024 51,514 (1,759) 53,273 10 % (3) % 13 %'],\n",
       "  ['Other Americas 16,976 18,320 (654) 18,974 8 % (4) % 12 %'],\n",
       "  ['Revenues, excluding hedging effect 280,876 307,158 (1,953) 309,111 9 % (1) % 10 %'],\n",
       "  ['Hedging gains (losses) 1,960 236'],\n",
       "  ['Total revenues(1) $ 282,836 $ 307,394 $ 309,111 9 % 0 % (1) % 10 %']],\n",
       " [['Quarter Ended December 31, 2022', None],\n",
       "  [None, '% Change from Prior Period']],\n",
       " [['Revenues excluding hedging effect $ 75,122 $ 75,379 $ (4,733) $ 80,112 0 % (7) % 7 %'],\n",
       "  ['Hedging gains (losses) 203 669'],\n",
       "  ['Total revenues $ 75,325 $ 76,048 $ 80,112 1 % 1 % (7) % 7 %']],\n",
       " [['Year Ended December 31, 2022', None],\n",
       "  [None, '% Change from Prior Period']],\n",
       " [['Revenues excluding hedging effect $ 257,488 $ 280,876 $ (13,324) $ 294,200 9 % (5) % 14 %'],\n",
       "  ['Hedging gains (losses) 149 1,960'],\n",
       "  ['Total revenues $ 257,637 $ 282,836 $ 294,200 10 % 1 % (5) % 14 %']]]"
      ]
     },
     "execution_count": 6,
     "metadata": {},
     "output_type": "execute_result"
    }
   ],
   "source": [
    "tables"
   ]
  },
  {
   "cell_type": "code",
   "execution_count": 7,
   "id": "f0e9baea",
   "metadata": {},
   "outputs": [
    {
     "data": {
      "text/plain": [
       "True"
      ]
     },
     "execution_count": 7,
     "metadata": {},
     "output_type": "execute_result"
    }
   ],
   "source": [
    "from src.components.summarizer import get_summary\n",
    "from dotenv import load_dotenv\n",
    "load_dotenv()"
   ]
  },
  {
   "cell_type": "code",
   "execution_count": 8,
   "id": "bdbe6a1d",
   "metadata": {},
   "outputs": [],
   "source": [
    "text_summaries, table_summaries = get_summary(texts = texts, tables = tables)"
   ]
  },
  {
   "cell_type": "code",
   "execution_count": null,
   "id": "9dcaee4a",
   "metadata": {},
   "outputs": [
    {
     "data": {
      "text/plain": [
       "['Alphabet Announces Fourth Quarter and Fiscal Year 2023 Results\\nMOUNTAIN VIEW, Calif. – January 30, 2024 – Alphabet Inc. (NASDAQ: GOOG, GOOGL) today announced\\nfinancial results for the quarter and fiscal year ended December 31, 2023.\\nSundar Pichai, CEO, said: “We are pleased with the ongoing strength in Search and the growing contribution from\\nYouTube and Cloud. Each of these is already benefiting from our AI investments and innovation. As we enter the\\nGemini era, the best is yet to come.”\\nRuth Porat, President and Chief Investment Officer; CFO said: “We ended 2023 with very strong fourth quarter\\nfinancial results, with Q4 consolidated revenues of $86 billion, up 13% year over year. We remain committed to our\\nwork to durably re-engineer our cost base as we invest to support our growth opportunities.”\\nQ4 2023 Financial Highlights\\nThe following table summarizes our consolidated financial results for the quarters and years ended December 31,\\n2022 and 2023 (in millions, except for per share information and percentages).\\nQuarter Ended Year Ended\\nDecember 31, December 31,\\n2022 2023 2022 2023\\n(unaudited) (unaudited)\\nRevenues $ 76,048 $ 86,310 $ 282,836 $ 307,394\\nChange in revenues year over year 1 % 13 % 10 % 9 %\\nChange in constant currency revenues year over year(1) 7 % 13 % 14 % 10 %\\nOperating income $ 18,160 $ 23,697 $ 74,842 $ 84,293\\nOperating margin 24 % 27 % 26 % 27 %\\nOther income (expense), net $ (1,013) $ 715 $ (3,514) $ 1,424\\nNet income $ 13,624 $ 20,687 $ 59,972 $ 73,795\\nDiluted EPS $ 1.05 $ 1.64 $ 4.56 $ 5.80\\n(1) Non-GAAP measure. See the table captioned “Reconciliation from GAAP revenues to non-GAAP constant currency\\nrevenues and GAAP percentage change in revenues to non-GAAP percentage change in constant currency revenues” for\\nmore details.',\n",
       " 'Q4 2023 Supplemental Information (in millions, except for number of employees; unaudited)\\nRevenues, Traffic Acquisition Costs (TAC), and Number of Employees\\nQuarter Ended December 31,\\n2022 2023\\nGoogle Search & other $ 42,604 $ 48,020\\nYouTube ads 7,963 9,200\\nGoogle Network 8,475 8,297\\nGoogle advertising 59,042 65,517\\nGoogle subscriptions, platforms, and devices(1) 8,796 10,794\\nGoogle Services total 67,838 76,311\\nGoogle Cloud 7,315 9,192\\nOther Bets 226 657\\nHedging gains (losses) 669 150\\nTotal revenues $ 76,048 $ 86,310\\nTotal TAC $ 12,925 $ 13,986\\nNumber of employees 190,234 182,502\\n(1) Formerly “Google other.”\\nSegment Operating Results\\nQuarter Ended December 31,\\n2022 2023\\nOperating income (loss):\\nGoogle Services $ 20,222 $ 26,730\\nGoogle Cloud (186) 864\\nOther Bets (1,237) (863)\\nAlphabet-level activities(1) (639) (3,034)\\nTotal income from operations $ 18,160 $ 23,697\\n(1) Formerly “corporate costs, unallocated.” In addition to the costs included in Alphabet-level activities, hedging gains (losses)\\nrelated to revenue were $669 million and $150 million for the three months ended December 31, 2022 and 2023,\\nrespectively. For the quarter ended December 31, 2023, Alphabet-level activities included charges related to the reduction\\nin force and our office space optimization efforts totaling $1.2 billion and $62 million in accelerated rent and accelerated\\ndepreciation.\\nAdditional Information Relating to the Quarter Ended December 31, 2023 (unaudited)\\nReductions in Our Workforce and Office Space\\nIn January 2023, we announced a reduction of our workforce, and as a result we recorded employee severance and\\nrelated charges of $2.1 billion for the twelve months ended December 31, 2023. In addition, we are taking actions\\nto optimize our global office space. As a result, exit charges recorded during the three and twelve months ended\\nDecember 31, 2023, were $1.2 billion and $1.8 billion, respectively. In addition to these exit charges, for the three\\nand twelve months ended December 31, 2023, we incurred $62 million and $269 million, respectively, in\\naccelerated rent and accelerated depreciation.\\n2',\n",
       " 'Severance and office space exit charges are included within our consolidated statements of income as follows (in\\nmillions):\\nQuarter Ended December 31, 2023 Year Ended December 31, 2023\\nSeverance Severance\\nand Related Office Space Total and Related Office Space Total\\nCost of revenues $ 2 $ 235 $ 237 $ 479 $ 481 $ 960\\nResearch and development 1 602 603 848 870 1,718\\nSales and marketing 3 198 201 497 257 754\\nGeneral and administrative 1 161 162 264 237 501\\nTotal charges $ 7 $ 1,196 $ 1,203 $ 2,088 $ 1,845 $ 3,933\\nFor segment reporting, the substantial majority of these charges are included within Alphabet-level activities in our\\nsegment results.\\nChange in Useful Lives of Our Server and Network Equipment\\nIn January 2023, we completed an assessment of the useful lives of our servers and network equipment and\\nadjusted the estimated useful life of our servers from four years to six years and the estimated useful life of certain\\nnetwork equipment from five years to six years. This change in accounting estimate was effective beginning in fiscal\\nyear 2023, and the effect was a reduction in depreciation expense of $983 million and $3.9 billion and an increase\\nin net income of $765 million and $3.0 billion, or $0.06 and $0.24 per basic and $0.06 and $0.24 per diluted share\\nfor the three and twelve months ended December 31, 2023, respectively.\\nWebcast and Conference Call Information\\nA live audio webcast of our fourth quarter 2023 earnings release call will be available on YouTube at https://\\nwww.youtube.com/watch?v=b4alwdVvn4Q. The call begins today at 1:30 PM (PT) / 4:30 PM (ET). This press\\nrelease, including the reconciliations of certain non-GAAP measures to their nearest comparable GAAP measures,\\nis also available at http://abc.xyz/investor.\\nWe also provide announcements regarding our financial performance, including SEC filings, investor events, press\\nand earnings releases, and blogs, on our investor relations website (http://abc.xyz/investor).\\nWe also share Google news and product updates on Google’s Keyword blog at https://www.blog.google/, which may\\nbe of interest or material to our investors.\\nForward-Looking Statements\\nThis press release may contain forward-looking statements that involve risks and uncertainties. Actual results may\\ndiffer materially from the results predicted, and reported results should not be considered as an indication of future\\nperformance. The potential risks and uncertainties that could cause actual results to differ from the results predicted\\ninclude, among others, those risks and uncertainties included under the captions “Risk Factors” and “Management’s\\nDiscussion and Analysis of Financial Condition and Results of Operations” in our Annual Report on Form 10-K for\\nthe year ended December 31, 2022 and our most recent Quarterly Report on Form 10-Q for the quarter ended\\nSeptember 30, 2023, which are on file with the SEC and are available on our investor relations website at http://\\nabc.xyz/investor and on the SEC website at www.sec.gov. Additional information will also be set forth in our Annual\\nReport on Form 10-K for the year ended December 31, 2023, and may be set forth in other reports and filings we\\nmake with the SEC. All information provided in this release and in the attachments is as of January 30, 2024. Undue\\nreliance should not be placed on the forward-looking statements in this press release, which are based on\\ninformation available to us on the date hereof. We undertake no duty to update this information unless required by\\nlaw.\\nAbout Non-GAAP Financial Measures\\nTo supplement our consolidated financial statements, which are prepared and presented in accordance with GAAP,\\nwe use the following non-GAAP financial measures: free cash flow; constant currency revenues; and percentage\\nchange in constant currency revenues. The presentation of this financial information is not intended to be\\nconsidered in isolation or as a substitute for, or superior to, the financial information prepared and presented in\\naccordance with GAAP.\\nWe use these non-GAAP financial measures for financial and operational decision-making and as a means to\\nevaluate period-to-period comparisons. We believe that these non-GAAP financial measures provide meaningful\\n3',\n",
       " 'supplemental information regarding our performance and liquidity by excluding certain items that may not be\\nindicative of our recurring core business operating results, such as our revenues excluding the effect of foreign\\nexchange rate movements and hedging activities, which are recognized at the consolidated level. We believe that\\nboth management and investors benefit from referring to these non-GAAP financial measures in assessing our\\nperformance and when planning, forecasting, and analyzing future periods. These non-GAAP financial measures\\nalso facilitate management’s internal comparisons to our historical performance and liquidity as well as comparisons\\nto our competitors’ operating results. We believe these non-GAAP financial measures are useful to investors both\\nbecause (1) they allow for greater transparency with respect to key metrics used by management in its financial and\\noperational decision-making and (2) they are used by our institutional investors and the analyst community to help\\nthem analyze the health of our business.\\nThere are a number of limitations related to the use of non-GAAP financial measures. We compensate for these\\nlimitations by providing specific information regarding the GAAP amounts excluded from these non-GAAP financial\\nmeasures and evaluating these non-GAAP financial measures together with their relevant financial measures in\\naccordance with GAAP.\\nFor more information on these non-GAAP financial measures, please see the tables captioned “Reconciliation from\\nGAAP net cash provided by operating activities to non-GAAP free cash flow” and “Reconciliation from GAAP\\nrevenues to non-GAAP constant currency revenues and GAAP percentage change in revenues to non-GAAP\\npercentage change in constant currency revenues” included at the end of this release.\\nContact\\nInvestor relations Media\\ninvestor-relations@abc.xyz press@abc.xyz\\n4',\n",
       " 'Alphabet Inc.\\nCONSOLIDATED BALANCE SHEETS\\n(In millions, except par value per share amounts)\\nAs of December 31,\\n2022 2023\\n(unaudited)\\nAssets\\nCurrent assets:\\nCash and cash equivalents $ 21,879 $ 24,048\\nMarketable securities 91,883 86,868\\nTotal cash, cash equivalents, and marketable securities 113,762 110,916\\nAccounts receivable, net 40,258 47,964\\nOther current assets 10,775 12,650\\nTotal current assets 164,795 171,530\\nNon-marketable securities 30,492 31,008\\nDeferred income taxes 5,261 12,169\\nProperty and equipment, net 112,668 134,345\\nOperating lease assets 14,381 14,091\\nGoodwill 28,960 29,198\\nOther non-current assets 8,707 10,051\\nTotal assets $ 365,264 $ 402,392\\nLiabilities and Stockholders’ Equity\\nCurrent liabilities:\\nAccounts payable $ 5,128 $ 7,493\\nAccrued compensation and benefits 14,028 15,140\\nAccrued expenses and other current liabilities 37,866 46,168\\nAccrued revenue share 8,370 8,876\\nDeferred revenue 3,908 4,137\\nTotal current liabilities 69,300 81,814\\nLong-term debt 14,701 13,253\\nDeferred revenue, non-current 599 911\\nIncome taxes payable, non-current 9,258 8,474\\nDeferred income taxes 514 485\\nOperating lease liabilities 12,501 12,460\\nOther long-term liabilities 2,247 1,616\\nTotal liabilities 109,120 119,013\\nCommitments and contingencies\\nStockholders’ equity:\\nPreferred stock, $0.001 par value per share, 100 shares authorized; no shares\\nissued and outstanding 0 0\\nClass A, Class B, and Class C stock and additional paid-in capital, $0.001 par\\nvalue per share: 300,000 shares authorized (Class A 180,000, Class B 60,000,\\nClass C 60,000); 12,849 (Class A 5,964, Class B 883, Class C 6,002) and 12,460\\n(Class A 5,899, Class B 870, Class C 5,691) shares issued and outstanding 68,184 76,534\\nAccumulated other comprehensive income (loss) (7,603) (4,402)\\nRetained earnings 195,563 211,247\\nTotal stockholders’ equity 256,144 283,379\\nTotal liabilities and stockholders’ equity $ 365,264 $ 402,392\\n5',\n",
       " 'Alphabet Inc.\\nCONSOLIDATED STATEMENTS OF INCOME\\n(In millions, except per share amounts)\\nQuarter Ended December 31, Year Ended December 31,\\n2022 2023 2022 2023\\n(unaudited) (unaudited)\\nRevenues $ 76,048 $ 86,310 $ 282,836 $ 307,394\\nCosts and expenses:\\nCost of revenues 35,342 37,575 126,203 133,332\\nResearch and development 10,267 12,113 39,500 45,427\\nSales and marketing 7,183 7,719 26,567 27,917\\nGeneral and administrative 5,096 5,206 15,724 16,425\\nTotal costs and expenses 57,888 62,613 207,994 223,101\\nIncome from operations 18,160 23,697 74,842 84,293\\nOther income (expense), net (1,013) 715 (3,514) 1,424\\nIncome before income taxes 17,147 24,412 71,328 85,717\\nProvision for income taxes 3,523 3,725 11,356 11,922\\nNet income $ 13,624 $ 20,687 $ 59,972 $ 73,795\\nBasic earnings per share of Class A, Class B, and Class C\\nstock $ 1.06 $ 1.66 $ 4.59 $ 5.84\\nDiluted earnings per share of Class A, Class B, and Class\\nC stock $ 1.05 $ 1.64 $ 4.56 $ 5.80\\nNumber of shares used in basic earnings per share\\ncalculation 12,897 12,488 13,063 12,630\\nNumber of shares used in diluted earnings per share\\ncalculation 12,947 12,602 13,159 12,722\\n6',\n",
       " 'Alphabet Inc.\\nCONSOLIDATED STATEMENTS OF CASH FLOWS\\n(In millions)\\nQuarter Ended December 31, Year Ended December 31,\\n2022 2023 2022 2023\\n(unaudited) (unaudited)\\nOperating activities\\nNet income $ 13,624 $ 20,687 $ 59,972 $ 73,795\\nAdjustments:\\nDepreciation of property and equipment 3,602 3,316 13,475 11,946\\nStock-based compensation expense 5,100 5,659 19,362 22,460\\nDeferred income taxes (1,924) (1,670) (8,081) (7,763)\\n(Gain) loss on debt and equity securities, net 1,663 (471) 5,519 823\\nOther 1,260 1,665 3,483 4,330\\nChanges in assets and liabilities, net of effects of\\nacquisitions:\\nAccounts receivable, net (4,615) (6,518) (2,317) (7,833)\\nIncome taxes, net 1,446 (9,869) 584 523\\nOther assets (778) 740 (5,046) (2,143)\\nAccounts payable (28) 427 707 664\\nAccrued expenses and other liabilities 3,424 4,317 3,915 3,937\\nAccrued revenue share 577 797 (445) 482\\nDeferred revenue 263 (165) 367 525\\nNet cash provided by operating activities 23,614 18,915 91,495 101,746\\nInvesting activities\\nPurchases of property and equipment (7,595) (11,019) (31,485) (32,251)\\nPurchases of marketable securities (11,621) (28,436) (78,874) (77,858)\\nMaturities and sales of marketable securities 13,735 34,030 97,822 86,672\\nPurchases of non-marketable securities (903) (851) (2,531) (3,027)\\nMaturities and sales of non-marketable securities 19 204 150 947\\nAcquisitions, net of cash acquired, and purchases of\\nintangible assets (84) (29) (6,969) (495)\\nOther investing activities 222 (66) 1,589 (1,051)\\nNet cash used in investing activities (6,227) (6,167) (20,298) (27,063)\\nFinancing activities\\nNet payments related to stock-based award activities (2,079) (2,680) (9,300) (9,837)\\nRepurchases of stock (15,407) (16,191) (59,296) (61,504)\\nProceeds from issuance of debt, net of costs 8,550 1,492 52,872 10,790\\nRepayments of debt (8,718) (1,929) (54,068) (11,550)\\nProceeds from sale of interest in consolidated entities,\\nnet 25 0 35 8\\nNet cash used in financing activities (17,629) (19,308) (69,757) (72,093)\\nEffect of exchange rate changes on cash and cash\\nequivalents 137 (94) (506) (421)\\nNet increase (decrease) in cash and cash\\nequivalents (105) (6,654) 934 2,169\\nCash and cash equivalents at beginning of period 21,984 30,702 20,945 21,879\\nCash and cash equivalents at end of period $ 21,879 $ 24,048 $ 21,879 $ 24,048\\n7',\n",
       " 'Segment Results\\nThe following table presents our segment revenues and operating income (loss) (in millions; unaudited):\\nQuarter Ended December 31,\\n2022 2023\\nRevenues:\\nGoogle Services $ 67,838 $ 76,311\\nGoogle Cloud 7,315 9,192\\nOther Bets 226 657\\nHedging gains (losses) 669 150\\nTotal revenues $ 76,048 $ 86,310\\nOperating income (loss):\\nGoogle Services $ 20,222 $ 26,730\\nGoogle Cloud (186) 864\\nOther Bets (1,237) (863)\\nAlphabet-level activities (639) (3,034)\\nTotal income from operations $ 18,160 $ 23,697\\nWe report our segment results as Google Services, Google Cloud, and Other Bets:\\n• Google Services includes products and services such as ads, Android, Chrome, devices, Google Maps,\\nGoogle Play, Search, and YouTube. Google Services generates revenues primarily from advertising; fees\\nreceived for consumer subscription-based products such as YouTube TV, YouTube Music and Premium,\\nand NFL Sunday Ticket; the sale of apps and in-app purchases and devices.\\n• Google Cloud includes infrastructure and platform services, collaboration tools, and other services for\\nenterprise customers. Google Cloud generates revenues primarily from consumption-based fees and\\nsubscriptions received for Google Cloud Platform services, Google Workspace communication and\\ncollaboration tools, and other enterprise services.\\n• Other Bets is a combination of multiple operating segments that are not individually material. Revenues\\nfrom Other Bets are generated primarily from the sale of healthcare-related services and internet services.\\nCertain costs are not allocated to our segments because they represent Alphabet-level activities. These costs\\nprimarily include AI-focused shared R&D activities, including development costs of our general AI models; corporate\\ninitiatives such as our philanthropic activities; corporate shared costs such as certain finance, human resource, and\\nlegal costs, including certain fines and settlements. Charges associated with reductions in our workforce and office\\nspace during 2023 were not allocated to our segments. Additionally, hedging gains (losses) related to revenue are\\nnot allocated to our segments.\\nOther Income (Expense), Net\\nThe following table presents our other income (expense), net (in millions; unaudited):\\nQuarter Ended December 31,\\n2022 2023\\nInterest income $ 659 $ 1,110\\nInterest expense (90) (69)\\nForeign currency exchange gain (loss), net (185) (449)\\nGain (loss) on debt securities, net (176) (115)\\nGain (loss) on equity securities, net(1) (1,487) 586\\nPerformance fees 193 (45)\\nIncome (loss) and impairment from equity method investments, net (31) (256)\\nOther 104 (47)\\nOther income (expense), net $ (1,013) $ 715\\n(1) Includes all gains and losses, unrealized and realized, on equity securities. For Q4 2023, the net effect of the gain on equity\\nsecurities of $586 million and the $45 million of performance fees related to certain investments increased the provision for\\n8',\n",
       " 'income tax, net income, and diluted EPS by $114 million, $427 million, and $0.03, respectively. Fluctuations in the value of\\nour investments may be affected by market dynamics and other factors and could significantly contribute to the volatility of\\nOI&E in future periods.\\nReconciliation from GAAP Net Cash Provided by Operating Activities to Non-GAAP Free Cash Flow (in\\nmillions; unaudited):\\nWe provide non-GAAP free cash flow because it is a liquidity measure that provides useful information to\\nmanagement and investors about the amount of cash generated by the business that can be used for strategic\\nopportunities, including investing in our business and acquisitions, and to strengthen our balance sheet.\\nQuarter Ended\\nDecember 31, 2023\\nNet cash provided by operating activities $ 18,915\\nLess: purchases of property and equipment (11,019)\\nFree cash flow $ 7,896\\nFree cash flow: We define free cash flow as net cash provided by operating activities less capital expenditures.\\n9',\n",
       " 'Reconciliation from GAAP Revenues to Non-GAAP Constant Currency Revenues and GAAP Percentage\\nChange in Revenues to Non-GAAP Percentage Change in Constant Currency Revenues (in millions, except\\npercentages; unaudited):\\nWe provide non-GAAP constant currency revenues (“constant currency revenues”) and non-GAAP percentage change\\nin constant currency revenues (“percentage change in constant currency revenues”), because they facilitate the\\ncomparison of current results to historic performance by excluding the effect of foreign exchange rate movements (“FX\\nEffect”) as well as hedging activities, which are recognized at the consolidated level, as they are not indicative of our\\ncore operating results.\\nNon-GAAP constant currency revenues is defined as revenues excluding the effect of foreign exchange rate\\nmovements and hedging activities and is calculated by translating current period revenues using prior period exchange\\nrates and excluding any hedging effect recognized in the current period. We calculate the percentage change in\\nconstant currency revenues by comparing constant currency revenues to the prior year comparable period revenues,\\nexcluding any hedging effect recognized in the prior period.\\nRevenues by Geography\\nComparison from the Quarter Ended December 31, 2022 to the Quarter Ended December 31, 2023\\nQuarter Ended December 31, 2023\\n% Change from Prior Period\\nQuarter Ended December 31, Constant Less Constant\\nLess FX Currency As Hedging Less FX Currency\\n2022 2023 Effect Revenues Reported Effect Effect Revenues\\nUnited States $ 36,982 $ 41,995 $ 0 $ 41,995 14 % 0 % 14 %\\nEMEA 21,762 25,010 1,105 23,905 15 % 5 % 10 %\\nAPAC 11,979 13,979 (90) 14,069 17 % 0 % 17 %\\nOther Americas 4,656 5,176 (75) 5,251 11 % (2) % 13 %\\nRevenues, excluding hedging effect 75,379 86,160 940 85,220 14 % 1 % 13 %\\nHedging gains (losses) 669 150\\nTotal revenues(1) $ 76,048 $ 86,310 $ 85,220 13 % (1) % 1 % 13 %\\n(1) Total constant currency revenues of $85.2 billion for the quarter ended December 31, 2023 increased $9.8 billion compared to $75.4 billion in\\nrevenues, excluding hedging effect for the quarter ended December 31, 2022.\\nComparison from the Quarter Ended September 30, 2023 to the Quarter Ended December 31, 2023\\nQuarter Ended December 31, 2023\\n% Change from Prior Period\\nQuarter Ended\\nConstant Less Constant\\nSeptember December Less FX Currency As Hedging Less FX Currency\\n30, 2023 31, 2023 Effect Revenues Reported Effect Effect Revenues\\nUnited States $ 36,354 $ 41,995 $ 0 $ 41,995 16 % 0 % 16 %\\nEMEA 22,661 25,010 (508) 25,518 10 % (3) % 13 %\\nAPAC 13,126 13,979 (196) 14,175 6 % (2) % 8 %\\nOther Americas 4,553 5,176 (151) 5,327 14 % (3) % 17 %\\nRevenues, excluding hedging effect 76,694 86,160 (855) 87,015 12 % (1) % 13 %\\nHedging gains (losses) (1) 150\\nTotal revenues(1) $ 76,693 $ 86,310 $ 87,015 13 % 1 % (1) % 13 %\\n(1) Total constant currency revenues of $87.0 billion for the quarter ended December 31, 2023 increased $10.3 billion compared to $76.7 billion in\\nrevenues, excluding hedging effect for the quarter ended September 30, 2023.\\n10',\n",
       " 'Comparison from the Year Ended December 31, 2022 to the Year Ended December 31, 2023\\nYear Ended December 31, 2023\\n% Change from Prior Period\\nYear Ended December 31,\\nConstant Less Constant\\nLess FX Currency As Hedging Less FX Currency\\n2022 2023 Effect Revenues Reported Effect Effect Revenues\\nUnited States $ 134,814 $ 146,286 $ 0 $ 146,286 9 % 0 % 9 %\\nEMEA 82,062 91,038 460 90,578 11 % 1 % 10 %\\nAPAC 47,024 51,514 (1,759) 53,273 10 % (3) % 13 %\\nOther Americas 16,976 18,320 (654) 18,974 8 % (4) % 12 %\\nRevenues, excluding hedging effect 280,876 307,158 (1,953) 309,111 9 % (1) % 10 %\\nHedging gains (losses) 1,960 236\\nTotal revenues(1) $ 282,836 $ 307,394 $ 309,111 9 % 0 % (1) % 10 %\\n(1) Total constant currency revenues of $309.1 billion for the year ended December 31, 2023 increased $28.2 billion compared to $280.9 billion in\\nrevenues, excluding hedging effect for the year ended December 31, 2022.\\nTotal Revenues — Prior Year Comparative Periods\\nComparison from the Quarter Ended December 31, 2021 to the Quarter Ended December 31, 2022\\nQuarter Ended December 31, 2022\\n% Change from Prior Period\\nQuarter Ended December\\n31, Constant Less Constant\\nLess FX Currency As Hedging Less FX Currency\\n2021 2022 Effect Revenues Reported Effect Effect Revenues\\nRevenues excluding hedging effect $ 75,122 $ 75,379 $ (4,733) $ 80,112 0 % (7) % 7 %\\nHedging gains (losses) 203 669\\nTotal revenues $ 75,325 $ 76,048 $ 80,112 1 % 1 % (7) % 7 %\\nComparison from the Year Ended December 31, 2021 to the Year Ended December 31, 2022\\nYear Ended December 31, 2022\\n% Change from Prior Period\\nYear Ended December 31, Constant Less Constant\\nLess FX Currency As Hedging Less FX Currency\\n2021 2022 Effect Revenues Reported Effect Effect Revenues\\nRevenues excluding hedging effect $ 257,488 $ 280,876 $ (13,324) $ 294,200 9 % (5) % 14 %\\nHedging gains (losses) 149 1,960\\nTotal revenues $ 257,637 $ 282,836 $ 294,200 10 % 1 % (5) % 14 %\\n11']"
      ]
     },
     "execution_count": 9,
     "metadata": {},
     "output_type": "execute_result"
    }
   ],
   "source": [
    "texts"
   ]
  },
  {
   "cell_type": "code",
   "execution_count": 10,
   "id": "58d4a283",
   "metadata": {},
   "outputs": [
    {
     "data": {
      "text/plain": [
       "['In the fourth quarter of 2023, Alphabet Inc. reported consolidated revenues of $86.3 billion, reflecting a 13% increase year over year, while full-year revenues reached $307.4 billion, up 9% from the previous year. The operating income for Q4 was $23.7 billion, resulting in an operating margin of 27%, compared to 24% in Q4 2022, and for the full year, operating income totaled $84.3 billion with a consistent margin of 27%. Other income turned positive in Q4 2023 at $715 million, a significant improvement from a loss of $1.0 billion in Q4 2022, and for the full year, other income also improved to $1.4 billion from a loss of $3.5 billion. Net income for the fourth quarter was $20.7 billion, up from $13.6 billion in the same quarter last year, while full-year net income increased to $73.8 billion from $60.0 billion. Diluted earnings per share (EPS) for Q4 rose to $1.64, compared to $1.05 in Q4 2022, and for the full year, EPS increased to $5.80 from $4.56.',\n",
       " 'In Q4 2023, Alphabet reported total revenues of $86.31 billion, reflecting a year-over-year increase of 13.5% from $76.05 billion in Q4 2022. The growth was driven by a rise in Google Services revenues, which reached $76.31 billion, up from $67.84 billion, and Google Cloud revenues, which increased to $9.19 billion from $7.32 billion. Operating income for the quarter was $23.70 billion, a significant increase of 30.5% compared to $18.16 billion in the same quarter last year, resulting in an operating margin improvement. However, the company faced other expenses, including hedging losses that decreased from $669 million in Q4 2022 to $150 million in Q4 2023. Net income for the quarter was not explicitly stated, but the overall financial performance suggests a positive trend. The earnings per share (EPS) for Q4 2023 was not provided, but the operational improvements indicate a strong performance relative to the previous year.',\n",
       " 'In the fourth quarter of 2023, the company reported revenues of $XX million, reflecting a year-over-year change of YY%. For the full fiscal year 2023, total revenues reached $ZZ million, also showing a YY% increase compared to the previous year. Operating income for Q4 2023 was $AA million, with an operating margin of BB%, while the full year operating income stood at $CC million, yielding a margin of DD%. Other income and expenses for the quarter amounted to $EE million, contributing to a net income of $FF million, which represents a YY% increase year-over-year. The earnings per share (EPS) for Q4 2023 was $GG, and for the full year, it was $HH, reflecting a year-over-year growth of YY%. Overall, the financial performance indicates a positive trend in revenues and net income, supported by effective cost management and operational efficiencies.',\n",
       " \"The financial performance for Q4 2023 and FY 2023 reflects a solid operational outcome. In Q4 2023, revenues reached $X million, marking a year-over-year increase of Y%, while full-year revenues totaled $Z million, also up by A% compared to the previous year. Operating income for Q4 was $B million, resulting in an operating margin of C%, whereas the full-year operating income stood at $D million with a margin of E%. Other income/expenses for the quarter amounted to $F million, contributing to a net income of $G million in Q4, which translates to an earnings per share (EPS) of $H. For the full fiscal year, net income was $I million, with an EPS of $J, reflecting a year-over-year change of K%. Overall, the results indicate a consistent growth trajectory in revenues and net income, underscoring the company's robust financial health.\",\n",
       " \"In the fiscal year 2023, Alphabet Inc. reported revenues of $XX billion, reflecting a year-over-year increase of YY%. The operating income for the same period was $XX billion, with an operating margin of ZZ%, indicating a stable performance compared to the previous year. Other income and expenses amounted to $XX million, contributing to the overall financial results. The net income for FY 2023 reached $XX billion, translating to earnings per share (EPS) of $XX, which represents a year-over-year change of YY%. These results demonstrate a consistent financial performance across key metrics, highlighting the company's resilience in a competitive market.\",\n",
       " 'In the fourth quarter of 2023, Alphabet Inc. reported revenues of $86,310 million, reflecting a year-over-year increase of 13.5% from $76,048 million in Q4 2022. For the full fiscal year 2023, revenues reached $307,394 million, up 8.7% compared to $282,836 million in FY 2022. Operating income for Q4 2023 was $23,697 million, a significant rise of 30.5% from $18,160 million in the same quarter last year, resulting in an operating margin of 27.4%, up from 23.9%. The full-year operating income also increased to $84,293 million, a 12.6% improvement from $74,842 million in FY 2022. Other income turned positive in Q4 2023, with a net gain of $715 million compared to a loss of $1,013 million in Q4 2022, while for the full year, other income improved to $1,424 million from a loss of $3,514 million in FY 2022. Net income for Q4 2023 was $20,687 million, marking a 51.7% increase from $13,624 million in Q4 2022, and for the full year, net income rose to $73,795 million, up 23.1% from $59,972 million in FY 2022. Basic earnings per share (EPS) for Q4 2023 were $1.66, compared to $1.06 in Q4 2022, while the full-year EPS increased to $5.84 from $4.59.',\n",
       " 'In the fourth quarter of 2023, Alphabet Inc. reported revenues of $20,687 million, reflecting a year-over-year increase from $13,624 million in Q4 2022. For the full fiscal year 2023, revenues reached $73,795 million, up from $59,972 million in FY 2022. Operating income for Q4 2023 was not explicitly provided, but the net income increased significantly to $20,687 million from $13,624 million in the same quarter last year, while the full-year net income rose to $73,795 million from $59,972 million, indicating strong overall performance. The company experienced a decline in other income/expenses, with a loss on debt and equity securities of $471 million in Q4 2023 compared to a gain of $1,663 million in Q4 2022, and for the full year, other income/expenses decreased to $823 million from $5,519 million. Earnings per share (EPS) for Q4 2023 and FY 2023 were not provided, but the substantial growth in net income suggests a positive trend in profitability. Overall, Alphabet Inc. demonstrated robust revenue growth and improved net income for both the quarter and the fiscal year, despite challenges in other income/expenses.',\n",
       " 'In the fourth quarter of 2023, Alphabet reported total revenues of $86,310 million, reflecting a year-over-year increase of 13.5% from $76,048 million in Q4 2022. The revenue growth was driven primarily by Google Services, which generated $76,311 million, up from $67,838 million, and Google Cloud, which rose to $9,192 million from $7,315 million. Operating income for the quarter was $23,697 million, a significant increase of 30.5% compared to $18,160 million in the same quarter last year, with Google Services contributing $26,730 million and Google Cloud turning around from an operating loss of $186 million to a profit of $864 million. However, Other Bets reported a loss of $863 million, an improvement from a loss of $1,237 million in Q4 2022. In terms of other income and expenses, the company recorded a net gain of $715 million, a notable recovery from a net loss of $1,013 million in the prior year, primarily due to improved performance in equity securities, which saw a gain of $586 million compared to a loss of $1,487 million. Net income for the quarter reached $20,000 million, up from $13,600 million, resulting in earnings per share (EPS) of $1.50, compared to $0.99 in Q4 2022. Overall, Alphabet demonstrated strong financial performance in Q4 2023, marked by significant revenue growth and improved profitability across its key segments.',\n",
       " 'In the quarter ended December 31, 2023, the company reported revenues of $18,915 million, reflecting a strong performance driven by increased demand. Operating income for the same period was $427 million, resulting in an operating margin that indicates effective cost management. Other income and expenses contributed to fluctuations in financial results, with notable impacts from market dynamics. Net income for the quarter was $114 million, translating to a diluted earnings per share (EPS) of $0.03. Additionally, the company generated a free cash flow of $7,896 million after accounting for capital expenditures of $11,019 million, highlighting its ability to generate cash for strategic opportunities despite significant investments. Overall, the financial metrics indicate a solid quarter with effective management of resources and a focus on maintaining liquidity.',\n",
       " 'For the quarter ended December 31, 2023, total revenues reached $86.3 billion, reflecting a 13% increase from $76.0 billion in the same quarter of the previous year. This growth was driven by a 14% rise in revenues from the United States, alongside increases of 15% in EMEA, 17% in APAC, and 11% in Other Americas. Operating income and margin details were not provided in the data. Other income/expenses included hedging losses of $150 million for the quarter. Net income and earnings per share (EPS) figures were not specified in the table. Overall, the financial performance for the quarter indicates a strong upward trend in revenues across all major geographic regions compared to the prior year.',\n",
       " 'For the fiscal year ended December 31, 2023, total revenues increased to $307.4 billion, reflecting a 9% growth compared to $282.8 billion in the prior year. This growth was driven by notable increases across all regions, with the United States reporting revenues of $146.3 billion (up 9%), EMEA at $91.0 billion (up 11%), APAC at $51.5 billion (up 10%), and Other Americas at $18.3 billion (up 8%). Operating income and margin details were not provided, but total revenues excluding hedging effects reached $309.1 billion, indicating a consistent upward trend. Other income/expenses included hedging losses of $1.8 billion, down from gains of $2.0 billion in the previous year. Consequently, net income for FY 2023 was not specified, but the overall financial performance suggests a solid year of growth, with earnings per share (EPS) metrics not disclosed.']"
      ]
     },
     "execution_count": 10,
     "metadata": {},
     "output_type": "execute_result"
    }
   ],
   "source": [
    "text_summaries"
   ]
  },
  {
   "cell_type": "code",
   "execution_count": 11,
   "id": "d82e4d14",
   "metadata": {},
   "outputs": [
    {
     "data": {
      "text/plain": [
       "['For the full year 2023, the company reported revenues of $307,394, reflecting a 9% year-over-year increase, while revenues in constant currency grew by 10%. Operating income for the same period was $84,293, with an operating margin of 27%. Net income reached $73,795, and diluted earnings per share (EPS) were $5.80. In comparison, the previous year saw revenues of $282,836, operating income of $74,842, net income of $59,972, and diluted EPS of $4.56. The management highlighted a focus on improving operational efficiency, which contributed to the positive financial performance.',\n",
       " 'In the full year 2023, Google reported total revenues of $76.048 billion, a decrease from $86.310 billion in 2022, reflecting a year-over-year decline of approximately 11.5%. Google Services generated $67.838 billion, down from $76.311 billion, while Google Cloud revenues fell to $7.315 billion from $9.192 billion. Advertising revenues, including Google Search and YouTube ads, also decreased, with Google advertising totaling $59.042 billion compared to $65.517 billion in the previous year. The total traffic acquisition costs (TAC) were $12.925 billion, down from $13.986 billion. The number of employees increased to 190,234 from 182,502, indicating a focus on growth despite the revenue decline.',\n",
       " 'In the most recent financial period, Alphabet reported total income from operations of $18,160 million, a decrease from $23,697 million in the previous period. Google Services generated $20,222 million, down from $26,730 million, while Google Cloud reported an operating loss of $186 million, improving from a loss of $864 million. Other Bets experienced a larger operating loss of $1,237 million, compared to a loss of $863 million previously. Additionally, Alphabet-level activities recorded a loss of $639 million, significantly better than the prior loss of $3,034 million.',\n",
       " 'For the quarter ended December 31, 2023, Alphabet incurred charges totaling $1.2 billion related to workforce reductions and $62 million in accelerated rent and depreciation due to office space optimization efforts. No specific revenue, operating income, net income, or EPS figures were provided in the paragraph.',\n",
       " 'In the reported period, the company achieved revenues of $62 million and operating income of $269 million. Further details regarding net income, margins, or year-over-year changes were not provided in the text.',\n",
       " 'In the reported period, total charges amounted to $1,203 million, reflecting an increase from $1,196 million in the previous period. The cost of revenues was $237 million, while research and development expenses totaled $603 million. Sales and marketing expenses were reported at $201 million, and general and administrative expenses reached $162 million. Overall, the total expenses for the period were $3,933 million, indicating a rise from $1,845 million in the prior period.',\n",
       " \"As of the latest reporting period, total assets amounted to $365,264, a decrease from $402,392 in the previous period. Current assets were reported at $164,795, down from $171,530, while total liabilities decreased to $109,120 from $119,013. Stockholders' equity also declined to $256,144 compared to $283,379 previously. Notably, cash and cash equivalents decreased to $21,879 from $24,048, and accounts receivable fell to $40,258 from $47,964. The company is experiencing a trend of decreasing assets and equity, which may indicate a need for management to focus on improving cash flow and operational efficiency.\",\n",
       " 'For the full year 2023, the company reported revenues of $307,394, a decrease from $282,836 in 2022. Total costs and expenses were $223,101, up from $207,994 in the previous year. Operating income for 2023 was $84,293, compared to $74,842 in 2022, indicating an increase. Net income for the year was $73,795, up from $59,972 in 2022. Basic earnings per share (EPS) were $5.84, an increase from $4.59, while diluted EPS rose to $5.80 from $4.56. Management highlighted a focus on improving operational efficiency, which contributed to the growth in operating income despite rising costs.',\n",
       " 'For the full year 2023, the company reported a net income of $73,795, a decrease from $59,972 in 2022, reflecting a year-over-year decline. Operating activities generated $101,746 in net cash, down from $91,495 in the previous year. The cash and cash equivalents at the end of the period stood at $21,879, consistent with the previous year. The company also experienced a decrease in stock-based compensation expense, totaling $19,362 compared to $22,460 in 2022. Management noted a focus on optimizing cash flow and managing expenses effectively.',\n",
       " 'In Q4 2023, Alphabet reported total revenues of $76.048 billion, a decrease of 11.9% from $86.310 billion in Q4 2022. Google Services generated $67.838 billion, down from $76.311 billion, while Google Cloud revenues fell to $7.315 billion from $9.192 billion. Other Bets increased to $226 million from $657 million. The total income from operations was $18.160 billion, down from $23.697 billion, reflecting a decline in operating income for Google Services to $20.222 billion from $26.730 billion, and a loss in Google Cloud operations of $186 million compared to a profit of $864 million in the prior year. Management noted challenges in various segments, particularly in Google Cloud and Other Bets, which contributed to the overall revenue decline.',\n",
       " 'In the latest financial results, the company reported interest income of $659 million, down from $1,110 million in the previous period. Interest expense increased to $90 million from $69 million. The net foreign currency exchange loss improved to $185 million from a loss of $449 million, while the loss on debt securities increased to $176 million from $115 million. Notably, the loss on equity securities significantly worsened to $1,487 million compared to a gain of $586 million previously. Performance fees rose to $193 million from a loss of $45 million, and the income from equity method investments improved to a loss of $31 million from a loss of $256 million. Other income showed a positive shift, totaling $104 million compared to a loss of $47 million. Overall, the net other income (expense) was a loss of $1,013 million, contrasting with a gain of $715 million in the prior period.',\n",
       " 'For the reporting period, the company generated net cash provided by operating activities of $18,915, while capital expenditures for property and equipment amounted to $11,019, resulting in a free cash flow of $7,896.',\n",
       " 'The provided text does not contain any specific financial metrics, numerical values, or performance insights. Therefore, there are no key financial metrics or trends to summarize. Please provide a more detailed paragraph with relevant financial information for analysis.',\n",
       " 'For the period reported, total revenues reached $76,048 million, a decrease of 13% year-over-year from $86,310 million. Excluding the hedging effect, revenues were $75,379 million, reflecting a 14% decline from $86,160 million. The EMEA region generated $23,905 million in revenue, down 10% year-over-year, while APAC revenues decreased by 17% to $14,069 million. The Other Americas segment reported revenues of $5,251 million, a 13% decrease. Management noted a focus on navigating challenging market conditions, which contributed to these results.',\n",
       " 'The provided text does not contain any specific financial metrics, numerical values, or performance insights. Therefore, there are no key financial metrics or trends to summarize. Please provide a different paragraph with relevant financial data for analysis.',\n",
       " 'For the reported period, total revenues amounted to $76,693, reflecting a 13% year-over-year increase, while revenues excluding hedging effects were $76,694, also up 12% year-over-year. The United States generated $36,354 in revenue, a 16% increase, while EMEA revenues were $22,661, up 10%. APAC revenues reached $13,126, marking a 6% increase, and Other Americas contributed $4,553, up 14%. The overall performance indicates a positive trend in revenue growth across all regions, with management highlighting a focus on optimizing revenue streams despite minor fluctuations in hedging gains and losses.',\n",
       " 'The provided text does not contain any specific financial metrics, numerical values, or performance insights. Therefore, I am unable to extract or summarize any relevant financial information. Please provide a more detailed paragraph with actual financial data for analysis.',\n",
       " 'For the period reported, total revenues amounted to $282.8 million, reflecting a 9% increase year-over-year, although there was a slight decline of 1% when excluding hedging effects. The revenue breakdown shows the United States generated $134.8 million, EMEA contributed $82.1 million, APAC brought in $47.0 million, and Other Americas accounted for $17.0 million. Notably, EMEA experienced an 11% growth, while APAC and Other Americas saw increases of 10% and 8%, respectively. The management highlighted a focus on optimizing revenue streams despite the challenges posed by hedging losses, which were reported at $1.96 million.',\n",
       " 'The provided text does not contain any specific financial metrics or performance insights, such as revenue, operating income, margins, net income, or EPS, nor does it indicate any percentage changes or trends. Therefore, there are no key financial details to summarize.',\n",
       " 'For the period reported, total revenues amounted to $75,325, reflecting a 1% increase from the previous quarter but a 7% decrease compared to the same quarter last year. Excluding the hedging effect, revenues were $75,122, which is a 0% change quarter-over-quarter and a 7% decline year-over-year. Additionally, hedging gains were reported at $203.',\n",
       " 'The provided text does not contain any specific financial metrics or performance insights, such as revenue, operating income, net income, or EPS, nor does it indicate any percentage changes or trends. Therefore, there are no key financial details to summarize.',\n",
       " 'For the period reported, total revenues amounted to $257,637, reflecting a decrease of 10% year-over-year, while revenues excluding the hedging effect were $257,488, down 13,324 from the previous period. The previous total revenues were $282,836, indicating a 1% increase from the prior year, but a 5% decline compared to the most recent quarter. Additionally, hedging gains were reported at $149, compared to $1,960 in the previous period.']"
      ]
     },
     "execution_count": 11,
     "metadata": {},
     "output_type": "execute_result"
    }
   ],
   "source": [
    "table_summaries"
   ]
  },
  {
   "cell_type": "code",
   "execution_count": 12,
   "id": "fd3c96f6",
   "metadata": {},
   "outputs": [],
   "source": [
    "from src.components.retriever import create_summary_retriever"
   ]
  },
  {
   "cell_type": "code",
   "execution_count": 13,
   "id": "80625b8c",
   "metadata": {},
   "outputs": [
    {
     "name": "stderr",
     "output_type": "stream",
     "text": [
      "c:\\Users\\rahul\\Desktop\\Agentic AI\\Agentic-RAG\\src\\components\\retriever.py:44: LangChainDeprecationWarning: The class `Chroma` was deprecated in LangChain 0.2.9 and will be removed in 1.0. An updated version of the class exists in the :class:`~langchain-chroma package and should be used instead. To use it run `pip install -U :class:`~langchain-chroma` and import as `from :class:`~langchain_chroma import Chroma``.\n",
      "  vector_db = Chroma(\n"
     ]
    }
   ],
   "source": [
    "retriever, _ = create_summary_retriever(text_summaries = text_summaries, table_summaries = table_summaries)"
   ]
  },
  {
   "cell_type": "code",
   "execution_count": 14,
   "id": "657dca41",
   "metadata": {},
   "outputs": [
    {
     "data": {
      "text/plain": [
       "[Document(metadata={'source': 'text', 'chunk': 1}, page_content='For the quarter ended December 31, 2023, total revenues reached $86.3 billion, reflecting a 13% increase from $76.0 billion in the same quarter of the previous year. This growth was driven by a 14% rise in revenues from the United States, alongside increases of 15% in EMEA, 17% in APAC, and 11% in Other Americas. Operating income and margin details were not provided in the data. Other income/expenses included hedging losses of $150 million for the quarter. Net income and earnings per share (EPS) figures were not specified in the table. Overall, the financial performance for the quarter indicates a strong upward trend in revenues across all major geographic regions compared to the prior year.'),\n",
       " Document(metadata={'source': 'table', 'chunk': 1}, page_content='For the period reported, total revenues amounted to $75,325, reflecting a 1% increase from the previous quarter but a 7% decrease compared to the same quarter last year. Excluding the hedging effect, revenues were $75,122, which is a 0% change quarter-over-quarter and a 7% decline year-over-year. Additionally, hedging gains were reported at $203.'),\n",
       " Document(metadata={'source': 'table', 'chunk': 1}, page_content='For the quarter ended December 31, 2023, Alphabet incurred charges totaling $1.2 billion related to workforce reductions and $62 million in accelerated rent and depreciation due to office space optimization efforts. No specific revenue, operating income, net income, or EPS figures were provided in the paragraph.'),\n",
       " Document(metadata={'chunk': 1, 'source': 'text'}, page_content='In the fourth quarter of 2023, Alphabet reported total revenues of $86,310 million, reflecting a year-over-year increase of 13.5% from $76,048 million in Q4 2022. The revenue growth was driven primarily by Google Services, which generated $76,311 million, up from $67,838 million, and Google Cloud, which rose to $9,192 million from $7,315 million. Operating income for the quarter was $23,697 million, a significant increase of 30.5% compared to $18,160 million in the same quarter last year, with Google Services contributing $26,730 million and Google Cloud turning around from an operating loss of $186 million to a profit of $864 million. However, Other Bets reported a loss of $863 million, an improvement from a loss of $1,237 million in Q4 2022. In terms of other income and expenses, the company recorded a net gain of $715 million, a notable recovery from a net loss of $1,013 million in the prior year, primarily due to improved performance in equity securities, which saw a gain of $586 million compared to a loss of $1,487 million. Net income for the quarter reached $20,000 million, up from $13,600 million, resulting in earnings per share (EPS) of $1.50, compared to $0.99 in Q4 2022. Overall, Alphabet demonstrated strong financial performance in Q4 2023, marked by significant revenue growth and improved profitability across its key segments.'),\n",
       " Document(metadata={'chunk': 1, 'source': 'table'}, page_content='The provided text does not contain any specific financial metrics, numerical values, or performance insights. Therefore, there are no key financial metrics or trends to summarize. Please provide a different paragraph with relevant financial data for analysis.')]"
      ]
     },
     "execution_count": 14,
     "metadata": {},
     "output_type": "execute_result"
    }
   ],
   "source": [
    "retriever.invoke(input = \"what are the quarters mentioned in the document?\")"
   ]
  },
  {
   "cell_type": "code",
   "execution_count": null,
   "id": "bf0e2991",
   "metadata": {},
   "outputs": [],
   "source": []
  }
 ],
 "metadata": {
  "kernelspec": {
   "display_name": ".venv",
   "language": "python",
   "name": "python3"
  },
  "language_info": {
   "codemirror_mode": {
    "name": "ipython",
    "version": 3
   },
   "file_extension": ".py",
   "mimetype": "text/x-python",
   "name": "python",
   "nbconvert_exporter": "python",
   "pygments_lexer": "ipython3",
   "version": "3.11.8"
  }
 },
 "nbformat": 4,
 "nbformat_minor": 5
}
